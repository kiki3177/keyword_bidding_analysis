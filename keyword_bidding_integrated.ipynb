{
 "cells": [
  {
   "cell_type": "markdown",
   "source": [
    "### Import Libraries"
   ],
   "metadata": {
    "collapsed": false,
    "pycharm": {
     "name": "#%% md\n"
    }
   }
  },
  {
   "cell_type": "code",
   "execution_count": null,
   "outputs": [],
   "source": [
    "import pandas as pd\n",
    "from sqlalchemy import create_engine\n",
    "\n",
    "engine = create_engine('###########################')"
   ],
   "metadata": {
    "collapsed": false,
    "pycharm": {
     "name": "#%%\n"
    }
   }
  },
  {
   "cell_type": "markdown",
   "source": [
    "### Import Tables to Local (no need to run this part except first time if the raw data remains unchanged)"
   ],
   "metadata": {
    "collapsed": false,
    "pycharm": {
     "name": "#%% md\n"
    }
   }
  },
  {
   "cell_type": "code",
   "execution_count": null,
   "outputs": [],
   "source": [
    "# all keywords and corresponding Keyword_Key"
   ],
   "metadata": {
    "collapsed": false,
    "pycharm": {
     "name": "#%%\n"
    }
   }
  },
  {
   "cell_type": "code",
   "execution_count": null,
   "outputs": [],
   "source": [
    "sql1 = \"\"\"\n",
    "select *\n",
    "from amazon_kws;\n",
    "\"\"\"\n",
    "keyword_all = pd.read_sql(sql1, engine)"
   ],
   "metadata": {
    "collapsed": false,
    "pycharm": {
     "name": "#%%\n"
    }
   }
  },
  {
   "cell_type": "code",
   "execution_count": null,
   "outputs": [],
   "source": [
    "keyword_all.to_csv(\"keyword_all.csv\")"
   ],
   "metadata": {
    "collapsed": false,
    "pycharm": {
     "name": "#%%\n"
    }
   }
  },
  {
   "cell_type": "code",
   "execution_count": null,
   "outputs": [],
   "source": [
    "# all keywords (with Keyword_Key) descend ordered by search volume"
   ],
   "metadata": {
    "collapsed": false,
    "pycharm": {
     "name": "#%%\n"
    }
   }
  },
  {
   "cell_type": "code",
   "execution_count": null,
   "outputs": [],
   "source": [
    "# inner join amazon_kws and amazon_kw_vol\n",
    "# descend order by the search volume of keywords\n",
    "sql2 =\"\"\"\n",
    "select amazon_kws.\"KEYWORD_KEY\", amazon_kws.\"KEYWORD\", amazon_kw_vol.\"KEYWORD_KEY\", amazon_kw_vol.\"DATE\", amazon_kw_vol.\"MARKET_CODE\", amazon_kw_vol.\"DEVICE_CODE\", amazon_kw_vol.\"EST_KEYWORD_SEARCH_VOLUME\"\n",
    "from amazon_kw_vol\n",
    "inner join amazon_kws\n",
    "on amazon_kws.\"KEYWORD_KEY\" = amazon_kw_vol.\"KEYWORD_KEY\"\n",
    "order by \"EST_KEYWORD_SEARCH_VOLUME\" desc;\n",
    "\"\"\"\n",
    "keyword_order_by_volume = pd.read_sql(sql2, engine)"
   ],
   "metadata": {
    "collapsed": false,
    "pycharm": {
     "name": "#%%\n"
    }
   }
  },
  {
   "cell_type": "code",
   "execution_count": null,
   "outputs": [],
   "source": [
    "keyword_order_by_volume.to_csv(\"keyword_order_by_volume.csv\")"
   ],
   "metadata": {
    "collapsed": false,
    "pycharm": {
     "name": "#%%\n"
    }
   }
  },
  {
   "cell_type": "code",
   "execution_count": null,
   "outputs": [],
   "source": [
    "# all keywords (with Keyword_Key) descend ordered by SOV"
   ],
   "metadata": {
    "collapsed": false,
    "pycharm": {
     "name": "#%%\n"
    }
   }
  },
  {
   "cell_type": "code",
   "execution_count": null,
   "outputs": [],
   "source": [
    "# inner join amazon_kws and amazon_aso\n",
    "# select the records with SOV greater than 0.9\n",
    "# descend order by SOV of keywords\n",
    "sql3 = \"\"\"\n",
    "select amazon_kws.\"KEYWORD_KEY\", amazon_kws.\"KEYWORD\", amazon_aso.\"KEYWORD_KEY\", amazon_aso.\"DATE\", amazon_aso.\"MARKET_CODE\", amazon_aso.\"DEVICE_CODE\", amazon_aso.\"EST_KEYWORD_SOV_APP_SHARE_OF_KEYWORD\"\n",
    "from amazon_aso\n",
    "inner join amazon_kws\n",
    "on amazon_kws.\"KEYWORD_KEY\" = amazon_aso.\"KEYWORD_KEY\"\n",
    "order by \"EST_KEYWORD_SOV_APP_SHARE_OF_KEYWORD\" desc;\n",
    "\"\"\"\n",
    "keyword_order_by_sov = pd.read_sql(sql3, engine)"
   ],
   "metadata": {
    "collapsed": false,
    "pycharm": {
     "name": "#%%\n"
    }
   }
  },
  {
   "cell_type": "code",
   "execution_count": null,
   "outputs": [],
   "source": [
    "keyword_order_by_sov.to_csv(\"keyword_order_by_sov.csv\")"
   ],
   "metadata": {
    "collapsed": false,
    "pycharm": {
     "name": "#%%\n"
    }
   }
  },
  {
   "cell_type": "markdown",
   "source": [
    "### Read Files from Local"
   ],
   "metadata": {
    "collapsed": false,
    "pycharm": {
     "name": "#%% md\n"
    }
   }
  },
  {
   "cell_type": "code",
   "execution_count": null,
   "outputs": [],
   "source": [
    "keyword_all = pd.read_csv('keyword_all.csv').iloc[: , 1:]"
   ],
   "metadata": {
    "collapsed": false,
    "pycharm": {
     "name": "#%%\n"
    }
   }
  },
  {
   "cell_type": "code",
   "execution_count": null,
   "outputs": [],
   "source": [
    "keyword_order_by_volume = pd.read_csv('keyword_order_by_volume.csv').iloc[: , 1:]"
   ],
   "metadata": {
    "collapsed": false,
    "pycharm": {
     "name": "#%%\n"
    }
   }
  },
  {
   "cell_type": "code",
   "execution_count": null,
   "outputs": [],
   "source": [
    "keyword_order_by_sov = pd.read_csv('keyword_order_by_sov.csv').iloc[: , 1:]"
   ],
   "metadata": {
    "collapsed": false,
    "pycharm": {
     "name": "#%%\n"
    }
   }
  },
  {
   "cell_type": "markdown",
   "source": [
    "### Focus on English Keywords"
   ],
   "metadata": {
    "collapsed": false,
    "pycharm": {
     "name": "#%% md\n"
    }
   }
  },
  {
   "cell_type": "code",
   "execution_count": null,
   "outputs": [],
   "source": [
    "# define a function to filter out English Keywords (ascii text)\n",
    "def filter_eng_keywords(dataframe, column):\n",
    "    filtered_data = dataframe[dataframe[column].map(lambda x: x.isascii())]\n",
    "    return filtered_data"
   ],
   "metadata": {
    "collapsed": false,
    "pycharm": {
     "name": "#%%\n"
    }
   }
  },
  {
   "cell_type": "code",
   "execution_count": null,
   "outputs": [],
   "source": [
    "keyword_all_eng = filter_eng_keywords(keyword_all, \"KEYWORD\")\n",
    "keyword_order_by_volume_eng = filter_eng_keywords(keyword_order_by_volume, \"KEYWORD\")\n",
    "keyword_order_by_sov_eng = filter_eng_keywords(keyword_order_by_sov, \"KEYWORD\")"
   ],
   "metadata": {
    "collapsed": false,
    "pycharm": {
     "name": "#%%\n"
    }
   }
  },
  {
   "cell_type": "code",
   "execution_count": null,
   "outputs": [],
   "source": [
    "# calculate English percentage in all keywords\n",
    "percentage = int(len(keyword_all_eng))/int(len(keyword_all))\n",
    "print('There\\'re ', int(len(keyword_all)), 'keywords in total.')\n",
    "print('There\\'re ', int(len(keyword_all_eng)), 'keywords in English.')\n",
    "print('The percentage of English keywords in all keywords is: ', percentage*100, \"%.\", sep = \"\")"
   ],
   "metadata": {
    "collapsed": false,
    "pycharm": {
     "name": "#%%\n"
    }
   }
  },
  {
   "cell_type": "markdown",
   "source": [
    "### Seperate Two Markets (Andriod & iOS)"
   ],
   "metadata": {
    "collapsed": false,
    "pycharm": {
     "name": "#%% md\n"
    }
   }
  },
  {
   "cell_type": "code",
   "execution_count": null,
   "outputs": [],
   "source": [
    "# define a function to seperate different markets\n",
    "def get_type_table(dataframe, market_type):\n",
    "    return dataframe[dataframe.MARKET_CODE==market_type].copy()"
   ],
   "metadata": {
    "collapsed": false,
    "pycharm": {
     "name": "#%%\n"
    }
   }
  },
  {
   "cell_type": "code",
   "execution_count": null,
   "outputs": [],
   "source": [
    "# Andriod market\n",
    "keyword_order_by_volume_eng_android = get_type_table(keyword_order_by_volume_eng, \"google-play\")\n",
    "keyword_order_by_sov_eng_android = get_type_table(keyword_order_by_sov_eng, \"google-play\")"
   ],
   "metadata": {
    "collapsed": false,
    "pycharm": {
     "name": "#%%\n"
    }
   }
  },
  {
   "cell_type": "code",
   "execution_count": null,
   "outputs": [],
   "source": [
    "# iOS market\n",
    "keyword_order_by_volume_eng_ios = get_type_table(keyword_order_by_volume_eng, \"apple-store\")\n",
    "keyword_order_by_sov_eng_ios = get_type_table(keyword_order_by_sov_eng, \"apple-store\")"
   ],
   "metadata": {
    "collapsed": false,
    "pycharm": {
     "name": "#%%\n"
    }
   }
  },
  {
   "cell_type": "markdown",
   "source": [
    "### Data Distribution"
   ],
   "metadata": {
    "collapsed": false,
    "pycharm": {
     "name": "#%% md\n"
    }
   }
  },
  {
   "cell_type": "code",
   "execution_count": null,
   "outputs": [],
   "source": [
    "# data frequency exploration"
   ],
   "metadata": {
    "collapsed": false,
    "pycharm": {
     "name": "#%%\n"
    }
   }
  },
  {
   "cell_type": "code",
   "execution_count": null,
   "outputs": [],
   "source": [
    "# define a function to counter the number in each specific interval\n",
    "import matplotlib.pyplot as plt\n",
    "def find_data_distribution(total_groups, dataframe, column_name, range_max, fig_name):\n",
    "    data = []\n",
    "    group_name_list = []\n",
    "    counter_list = []\n",
    "    batch_size = int(100)/total_groups\n",
    "    percentage = []\n",
    "\n",
    "    for i in range(0, total_groups):\n",
    "        counter_list.append(0)\n",
    "\n",
    "        nameRange =\"[\" +str(i *(100/total_groups) )+\" ~ \"+str((i+1)*(100/total_groups)) + \")\"\n",
    "        if i == total_groups-1:\n",
    "            nameRange =\"[\" +str(i *(100/total_groups) )+\" ~ \"+str((i+1)*(100/total_groups)) + \"]\"\n",
    "        group_name_list.append(nameRange)\n",
    "\n",
    "    for row in dataframe.itertuples():\n",
    "        data_row = int(getattr(row, column_name))\n",
    "        data.append(data_row)\n",
    "\n",
    "        group = int(getattr(row, column_name)*(100/range_max)/batch_size)\n",
    "        if group == total_groups:\n",
    "            group -= 1\n",
    "        counter_list[group] += 1\n",
    "    for each_section in counter_list:\n",
    "        percentage.append(each_section/sum(counter_list)*100)\n",
    "\n",
    "    df = pd.DataFrame({'x': group_name_list, 'y': percentage})\n",
    "    df.plot(x = 'x', y = 'y', kind = 'bar', figsize = (20, 10))\n",
    "    plt.savefig(fig_name+'.jpg', dpi=300)\n",
    "    plt.show()"
   ],
   "metadata": {
    "collapsed": false,
    "pycharm": {
     "name": "#%%\n"
    }
   }
  },
  {
   "cell_type": "code",
   "execution_count": null,
   "outputs": [],
   "source": [
    "find_data_distribution(20, keyword_order_by_volume_eng_android, \"EST_KEYWORD_SEARCH_VOLUME\", 100, 'volume_frequency_android')\n",
    "find_data_distribution(20, keyword_order_by_volume_eng_ios, \"EST_KEYWORD_SEARCH_VOLUME\", 100, 'volume_frequency_ios')"
   ],
   "metadata": {
    "collapsed": false,
    "pycharm": {
     "name": "#%%\n"
    }
   }
  },
  {
   "cell_type": "code",
   "execution_count": null,
   "outputs": [],
   "source": [
    "find_data_distribution(20, keyword_order_by_sov_eng_android, \"EST_KEYWORD_SOV_APP_SHARE_OF_KEYWORD\", 1, 'sov_frequency_android')\n",
    "find_data_distribution(20, keyword_order_by_sov_eng_ios, \"EST_KEYWORD_SOV_APP_SHARE_OF_KEYWORD\", 1, 'sov_frequency_ios')"
   ],
   "metadata": {
    "collapsed": false,
    "pycharm": {
     "name": "#%%\n"
    }
   }
  },
  {
   "cell_type": "code",
   "execution_count": null,
   "outputs": [],
   "source": [
    "# describe the data\n",
    "import numpy as np"
   ],
   "metadata": {
    "collapsed": false,
    "pycharm": {
     "name": "#%%\n"
    }
   }
  },
  {
   "cell_type": "code",
   "execution_count": null,
   "outputs": [],
   "source": [
    "keyword_order_by_volume_eng_android[\"EST_KEYWORD_SEARCH_VOLUME\"].describe()"
   ],
   "metadata": {
    "collapsed": false,
    "pycharm": {
     "name": "#%%\n"
    }
   }
  },
  {
   "cell_type": "code",
   "execution_count": null,
   "outputs": [],
   "source": [
    "high_volume_android_thd = np.percentile(keyword_order_by_volume_eng_android[\"EST_KEYWORD_SEARCH_VOLUME\"], 90)\n",
    "high_volume_android_thd"
   ],
   "metadata": {
    "collapsed": false,
    "pycharm": {
     "name": "#%%\n"
    }
   }
  },
  {
   "cell_type": "code",
   "execution_count": null,
   "outputs": [],
   "source": [
    "mid_volume_android_thd = np.percentile(keyword_order_by_volume_eng_android[\"EST_KEYWORD_SEARCH_VOLUME\"], 75)\n",
    "mid_volume_android_thd"
   ],
   "metadata": {
    "collapsed": false,
    "pycharm": {
     "name": "#%%\n"
    }
   }
  },
  {
   "cell_type": "code",
   "execution_count": null,
   "outputs": [],
   "source": [
    "keyword_order_by_volume_eng_ios[\"EST_KEYWORD_SEARCH_VOLUME\"].describe()"
   ],
   "metadata": {
    "collapsed": false,
    "pycharm": {
     "name": "#%%\n"
    }
   }
  },
  {
   "cell_type": "code",
   "execution_count": null,
   "outputs": [],
   "source": [
    "high_volume_ios_thd = np.percentile(keyword_order_by_volume_eng_ios[\"EST_KEYWORD_SEARCH_VOLUME\"], 90)\n",
    "high_volume_ios_thd"
   ],
   "metadata": {
    "collapsed": false,
    "pycharm": {
     "name": "#%%\n"
    }
   }
  },
  {
   "cell_type": "code",
   "execution_count": null,
   "outputs": [],
   "source": [
    "mid_volume_ios_thd = np.percentile(keyword_order_by_volume_eng_ios[\"EST_KEYWORD_SEARCH_VOLUME\"], 75)\n",
    "mid_volume_ios_thd"
   ],
   "metadata": {
    "collapsed": false,
    "pycharm": {
     "name": "#%%\n"
    }
   }
  },
  {
   "cell_type": "code",
   "execution_count": null,
   "outputs": [],
   "source": [
    "keyword_order_by_sov_eng_android[\"EST_KEYWORD_SOV_APP_SHARE_OF_KEYWORD\"].describe()"
   ],
   "metadata": {
    "collapsed": false,
    "pycharm": {
     "name": "#%%\n"
    }
   }
  },
  {
   "cell_type": "code",
   "execution_count": null,
   "outputs": [],
   "source": [
    "high_sov_android_thd = np.percentile(keyword_order_by_sov_eng_android[\"EST_KEYWORD_SOV_APP_SHARE_OF_KEYWORD\"], 95)\n",
    "high_sov_android_thd"
   ],
   "metadata": {
    "collapsed": false,
    "pycharm": {
     "name": "#%%\n"
    }
   }
  },
  {
   "cell_type": "code",
   "execution_count": null,
   "outputs": [],
   "source": [
    "mid_sov_android_thd = np.percentile(keyword_order_by_sov_eng_android[\"EST_KEYWORD_SOV_APP_SHARE_OF_KEYWORD\"], 75)\n",
    "mid_sov_android_thd"
   ],
   "metadata": {
    "collapsed": false,
    "pycharm": {
     "name": "#%%\n"
    }
   }
  },
  {
   "cell_type": "code",
   "execution_count": null,
   "outputs": [],
   "source": [
    "low_sov_android_thd = np.percentile(keyword_order_by_sov_eng_android[\"EST_KEYWORD_SOV_APP_SHARE_OF_KEYWORD\"], 40)\n",
    "low_sov_android_thd"
   ],
   "metadata": {
    "collapsed": false,
    "pycharm": {
     "name": "#%%\n"
    }
   }
  },
  {
   "cell_type": "code",
   "execution_count": null,
   "outputs": [],
   "source": [
    "keyword_order_by_sov_eng_ios[\"EST_KEYWORD_SOV_APP_SHARE_OF_KEYWORD\"].describe()"
   ],
   "metadata": {
    "collapsed": false,
    "pycharm": {
     "name": "#%%\n"
    }
   }
  },
  {
   "cell_type": "code",
   "execution_count": null,
   "outputs": [],
   "source": [
    "high_sov_ios_thd = np.percentile(keyword_order_by_sov_eng_ios[\"EST_KEYWORD_SOV_APP_SHARE_OF_KEYWORD\"], 75)\n",
    "high_sov_ios_thd"
   ],
   "metadata": {
    "collapsed": false,
    "pycharm": {
     "name": "#%%\n"
    }
   }
  },
  {
   "cell_type": "code",
   "execution_count": null,
   "outputs": [],
   "source": [
    "mid_sov_ios_thd = np.percentile(keyword_order_by_sov_eng_ios[\"EST_KEYWORD_SOV_APP_SHARE_OF_KEYWORD\"], 55)\n",
    "mid_sov_ios_thd"
   ],
   "metadata": {
    "collapsed": false,
    "pycharm": {
     "name": "#%%\n"
    }
   }
  },
  {
   "cell_type": "code",
   "execution_count": null,
   "outputs": [],
   "source": [
    "mid_sov_ios_thd = np.percentile(keyword_order_by_sov_eng_ios[\"EST_KEYWORD_SOV_APP_SHARE_OF_KEYWORD\"], 30)\n",
    "mid_sov_ios_thd"
   ],
   "metadata": {
    "collapsed": false,
    "pycharm": {
     "name": "#%%\n"
    }
   }
  },
  {
   "cell_type": "code",
   "execution_count": null,
   "outputs": [],
   "source": [
    "# draw PDF and CDF tables"
   ],
   "metadata": {
    "collapsed": false,
    "pycharm": {
     "name": "#%%\n"
    }
   }
  },
  {
   "cell_type": "code",
   "execution_count": null,
   "outputs": [],
   "source": [
    "import scipy.stats as stats\n",
    "\n",
    "def plot_pdf(data, column_name, fig_name, xlabel, max):\n",
    "    data = data[column_name]\n",
    "    mean = np.mean(data)\n",
    "    std = np.std(data)\n",
    "\n",
    "    fig_data = stats.norm.pdf(data.sort_values(), mean, std)\n",
    "\n",
    "    plt.figure(figsize=(15, 5))\n",
    "    plt.plot(data.sort_values(), fig_data)\n",
    "    plt.xlim([0, max])\n",
    "    plt.xlabel(xlabel, size=15)\n",
    "    plt.ylabel('f(x)', size=15)\n",
    "    plt.grid(True, alpha=1, linestyle=\"--\")\n",
    "    plt.locator_params(nbins=20, axis='x')\n",
    "    plt.savefig(fig_name+'.png', dpi=300)\n",
    "    plt.show()\n",
    "\n",
    "def plot_cdf(data, column_name, fig_name, xlabel, max):\n",
    "    data = data[column_name]\n",
    "    mean = np.mean(data)\n",
    "    std = np.std(data)\n",
    "\n",
    "    fig_data = stats.norm.cdf(data.sort_values(), mean, std)\n",
    "\n",
    "    plt.figure(figsize=(15, 5))\n",
    "    plt.plot(data.sort_values(), fig_data)\n",
    "    plt.xlim([0, max])\n",
    "    plt.xlabel(xlabel, size=15)\n",
    "    plt.ylabel('F(x)', size=15)\n",
    "    plt.grid(True, alpha=1, linestyle=\"--\")\n",
    "    plt.locator_params(nbins=20, axis='x')\n",
    "    plt.savefig(fig_name+'.png', dpi=300)\n",
    "    plt.show()"
   ],
   "metadata": {
    "collapsed": false,
    "pycharm": {
     "name": "#%%\n"
    }
   }
  },
  {
   "cell_type": "code",
   "execution_count": null,
   "outputs": [],
   "source": [
    "search_volume_android_pdf = plot_pdf(keyword_order_by_volume_eng_android, \"EST_KEYWORD_SEARCH_VOLUME\", 'search_volume_android_pdf', 'Search Volume in Android', 100)"
   ],
   "metadata": {
    "collapsed": false,
    "pycharm": {
     "name": "#%%\n"
    }
   }
  },
  {
   "cell_type": "code",
   "execution_count": null,
   "outputs": [],
   "source": [
    "search_volume_android_cdf = plot_cdf(keyword_order_by_volume_eng_android, \"EST_KEYWORD_SEARCH_VOLUME\", 'search_volume_android_cdf', 'Search Volume in Android', 100)"
   ],
   "metadata": {
    "collapsed": false,
    "pycharm": {
     "name": "#%%\n"
    }
   }
  },
  {
   "cell_type": "code",
   "execution_count": null,
   "outputs": [],
   "source": [
    "search_volume_ios_pdf = plot_pdf(keyword_order_by_volume_eng_ios, \"EST_KEYWORD_SEARCH_VOLUME\", 'search_volume_ios_pdf', 'Search Volume in iOS', 100)"
   ],
   "metadata": {
    "collapsed": false,
    "pycharm": {
     "name": "#%%\n"
    }
   }
  },
  {
   "cell_type": "code",
   "execution_count": null,
   "outputs": [],
   "source": [
    "search_volume_ios_cdf = plot_cdf(keyword_order_by_volume_eng_ios, \"EST_KEYWORD_SEARCH_VOLUME\", 'search_volume_ios_cdf', 'Search Volume in iOS', 100)"
   ],
   "metadata": {
    "collapsed": false,
    "pycharm": {
     "name": "#%%\n"
    }
   }
  },
  {
   "cell_type": "code",
   "execution_count": null,
   "outputs": [],
   "source": [
    "sov_android_pdf = plot_pdf(keyword_order_by_sov_eng_android, \"EST_KEYWORD_SOV_APP_SHARE_OF_KEYWORD\", 'sov_ios_pdf', 'SOV in Android', 1)"
   ],
   "metadata": {
    "collapsed": false,
    "pycharm": {
     "name": "#%%\n"
    }
   }
  },
  {
   "cell_type": "code",
   "execution_count": null,
   "outputs": [],
   "source": [
    "sov_android_cdf = plot_cdf(keyword_order_by_sov_eng_android, \"EST_KEYWORD_SOV_APP_SHARE_OF_KEYWORD\", 'sov_ios_cdf', 'SOV in Android', 1)"
   ],
   "metadata": {
    "collapsed": false,
    "pycharm": {
     "name": "#%%\n"
    }
   }
  },
  {
   "cell_type": "code",
   "execution_count": null,
   "outputs": [],
   "source": [
    "sov_ios_pdf = plot_pdf(keyword_order_by_sov_eng_ios, \"EST_KEYWORD_SOV_APP_SHARE_OF_KEYWORD\", 'sov_ios_pdf', 'SOV in iOS', 1)"
   ],
   "metadata": {
    "collapsed": false,
    "pycharm": {
     "name": "#%%\n"
    }
   }
  },
  {
   "cell_type": "code",
   "execution_count": null,
   "outputs": [],
   "source": [
    "sov_ios_cdf = plot_cdf(keyword_order_by_sov_eng_ios, \"EST_KEYWORD_SOV_APP_SHARE_OF_KEYWORD\", 'sov_ios_cdf', 'SOV in iOS', 1)"
   ],
   "metadata": {
    "collapsed": false,
    "pycharm": {
     "name": "#%%\n"
    }
   }
  },
  {
   "cell_type": "markdown",
   "source": [
    "### Percentage of A Certain Keyword (Focusing on search volume only)"
   ],
   "metadata": {
    "collapsed": false,
    "pycharm": {
     "name": "#%% md\n"
    }
   }
  },
  {
   "cell_type": "code",
   "execution_count": null,
   "outputs": [],
   "source": [
    "# define a function to filter out different categories with SIMILAR keywords, aggregate the total search volume of all the similar keywords in one category in the periods, descending ordered by aggregate search volume"
   ],
   "metadata": {
    "collapsed": false,
    "pycharm": {
     "name": "#%%\n"
    }
   }
  },
  {
   "cell_type": "code",
   "execution_count": null,
   "outputs": [],
   "source": [
    "from progressbar import ProgressBar, Percentage, Bar, Timer, ETA\n",
    "\n",
    "def merge_related_rows(input):\n",
    "    input_table = input.copy()\n",
    "    widgets= ['status: ',Percentage(), ' ', Bar('='),' ', Timer(),' ', ETA()]\n",
    "    bar = ProgressBar(widgets = widgets, maxval=len(input_table)).start()\n",
    "    for idx, row_comp in enumerate(input_table.itertuples()):\n",
    "        comp_keyword = getattr(row_comp, \"KEYWORD\")\n",
    "        input_table[\"KEYWORD\"] = input_table[\"KEYWORD\"].apply(lambda x:find_include_info(x, comp_keyword))\n",
    "        bar.update(idx)\n",
    "    return input_table\n",
    "\n",
    "def find_include_info(current_str, comp_str):\n",
    "    if comp_str in current_str and len(comp_str) > 5:\n",
    "        return comp_str\n",
    "    else:\n",
    "        return current_str\n",
    "\n",
    "def get_grouped_table(input_table, group_column, sort_column):\n",
    "    input_table[\"KEYWORD_AGG\"] = input_table[\"KEYWORD\"]\n",
    "    input_table = merge_related_rows(input_table)\n",
    "    total_val= input_table[sort_column].sum()\n",
    "    percentage = ((input_table[sort_column] / total_val)*100).round(2)\n",
    "    input_table[\"%\"] = percentage\n",
    "    grouped_table = input_table.groupby([group_column], as_index=False).agg({\n",
    "     sort_column : 'sum',\n",
    "     '%' : 'sum',\n",
    "     'KEYWORD_KEY' : 'first',\n",
    "     'DATE': 'first',\n",
    "     'MARKET_CODE' : 'first',\n",
    "     'DEVICE_CODE' : 'first',\n",
    "     'KEYWORD_AGG': lambda x: list(set(x))}\n",
    "    )\n",
    "    return grouped_table.sort_values(by = [sort_column], ascending=False).iloc[0:999].reset_index().drop(columns=\"index\")"
   ],
   "metadata": {
    "collapsed": false,
    "pycharm": {
     "name": "#%%\n"
    }
   }
  },
  {
   "cell_type": "code",
   "execution_count": null,
   "outputs": [],
   "source": [
    "keyword_order_by_volume_eng_android_grouped = get_grouped_table(keyword_order_by_volume_eng_android,\"KEYWORD\", \"EST_KEYWORD_SEARCH_VOLUME\")\n",
    "keyword_order_by_volume_eng_ios_grouped = get_grouped_table(keyword_order_by_volume_eng_ios, \"KEYWORD\", \"EST_KEYWORD_SEARCH_VOLUME\")"
   ],
   "metadata": {
    "collapsed": false,
    "pycharm": {
     "name": "#%%\n"
    }
   }
  },
  {
   "cell_type": "code",
   "execution_count": null,
   "outputs": [],
   "source": [
    "keyword_all_ordered_android = keyword_order_by_volume_eng_android_grouped.sort_values(by=[\"%\"], inplace=False, ascending=[False]).drop(columns=[\"DATE\",\"MARKET_CODE\",\"DEVICE_CODE\"])\n",
    "keyword_volume_top_android = keyword_all_ordered_android.reset_index(drop = True)"
   ],
   "metadata": {
    "collapsed": false,
    "pycharm": {
     "name": "#%%\n"
    }
   }
  },
  {
   "cell_type": "code",
   "execution_count": null,
   "outputs": [],
   "source": [
    "keyword_all_ordered_ios = keyword_order_by_volume_eng_ios_grouped.sort_values(by=[\"%\"], inplace=False, ascending=[False]).drop(columns=[\"DATE\",\"MARKET_CODE\",\"DEVICE_CODE\"])\n",
    "keyword_volume_top_ios = keyword_all_ordered_ios.reset_index(drop = True)"
   ],
   "metadata": {
    "collapsed": false,
    "pycharm": {
     "name": "#%%\n"
    }
   }
  },
  {
   "cell_type": "code",
   "execution_count": null,
   "outputs": [],
   "source": [
    "# print(newDataframe)\n",
    "def get_rows(dataframe, topN, percentage_column_name):\n",
    "    dataframe = dataframe.reset_index()\n",
    "    percentage_min = float(dataframe.iloc[topN, dataframe.columns.get_loc(percentage_column_name)])\n",
    "    rowNum = 0\n",
    "\n",
    "    # print(dataframe)\n",
    "    for index, row in enumerate(dataframe.itertuples()):\n",
    "        if float(getattr(row, \"_4\")) < float(percentage_min):\n",
    "            print(float(getattr(row,\"_4\")), float(percentage_min))\n",
    "            rowNum = index\n",
    "            break\n",
    "\n",
    "    return  dataframe.iloc[0:rowNum]"
   ],
   "metadata": {
    "collapsed": false,
    "pycharm": {
     "name": "#%%\n"
    }
   }
  },
  {
   "cell_type": "code",
   "execution_count": null,
   "outputs": [],
   "source": [
    "from matplotlib import font_manager as fm\n",
    "from matplotlib import cm\n",
    "\n",
    "def plot_pie(dataframe, column1, column2, fig_name):\n",
    "    categories = dataframe[column1].tolist()\n",
    "    values = dataframe[column2].tolist()\n",
    "\n",
    "    test_series = pd.Series(values, index=categories)\n",
    "\n",
    "    labels = test_series.index\n",
    "    sizes = test_series.values\n",
    "\n",
    "\n",
    "    fig, axes = plt.subplots(figsize=(30,30),ncols=2)\n",
    "    ax1, ax2 = axes.ravel()\n",
    "\n",
    "    colors = cm.rainbow(np.arange(len(sizes))/len(sizes))\n",
    "    patches, texts, autotexts = ax1.pie(sizes, labels=labels, autopct='%.2f%%', shadow=False, startangle=90, colors=colors)\n",
    "\n",
    "    ax1.axis('equal')\n",
    "\n",
    "    proptease = fm.FontProperties()\n",
    "    proptease.set_size('large')\n",
    "\n",
    "    plt.setp(autotexts, fontproperties=proptease)\n",
    "    plt.setp(texts, fontproperties=proptease)\n",
    "\n",
    "    ax1.set_title('categories', loc='center')\n",
    "\n",
    "    ax2.axis('off')\n",
    "    ax2.legend(patches, labels, loc='center left')\n",
    "\n",
    "    plt.tight_layout()\n",
    "    plt.savefig(fig_name+'.jpg', dpi=300)\n",
    "    plt.show()"
   ],
   "metadata": {
    "collapsed": false,
    "pycharm": {
     "name": "#%%\n"
    }
   }
  },
  {
   "cell_type": "code",
   "execution_count": null,
   "outputs": [],
   "source": [
    "keyword_volume_top_android_final = get_rows(keyword_volume_top_android, 20, \"%\").drop(columns=[\"index\"])\n",
    "keyword_volume_top_android_final.to_csv(\"keyword_volume_top_android_final.csv\")"
   ],
   "metadata": {
    "collapsed": false,
    "pycharm": {
     "name": "#%%\n"
    }
   }
  },
  {
   "cell_type": "code",
   "execution_count": null,
   "outputs": [],
   "source": [
    "keyword_volume_top_ios_final = get_rows(keyword_volume_top_ios, 20, \"%\").drop(columns=[\"index\"])\n",
    "keyword_volume_top_ios_final.to_csv(\"keyword_volume_top_ios_final.csv\")"
   ],
   "metadata": {
    "collapsed": false,
    "pycharm": {
     "name": "#%%\n"
    }
   }
  },
  {
   "cell_type": "code",
   "execution_count": null,
   "outputs": [],
   "source": [
    "plot_pie(keyword_volume_top_android_final, \"KEYWORD\", \"%\", \"top_volume_percentage_in_selected_android\")"
   ],
   "metadata": {
    "collapsed": false,
    "pycharm": {
     "name": "#%%\n"
    }
   }
  },
  {
   "cell_type": "code",
   "execution_count": null,
   "outputs": [],
   "source": [
    "plot_pie(keyword_volume_top_ios_final, \"KEYWORD\", \"%\", \"top_volume_percentage_in_selected_ios\")"
   ],
   "metadata": {
    "collapsed": false,
    "pycharm": {
     "name": "#%%\n"
    }
   }
  },
  {
   "cell_type": "markdown",
   "source": [
    "### Filter Out Keywords related to Amazon"
   ],
   "metadata": {
    "collapsed": false,
    "pycharm": {
     "name": "#%% md\n"
    }
   }
  },
  {
   "cell_type": "code",
   "execution_count": null,
   "outputs": [],
   "source": [
    "# define a function to filter out all the keywords related to Amazon\n",
    "def filter_amazon_keywords(dataframe, column):\n",
    "    filtered_amazon = dataframe[dataframe[column].map(lambda x: not x.find(\"amazon\") == -1)]\n",
    "    return filtered_amazon"
   ],
   "metadata": {
    "collapsed": false,
    "pycharm": {
     "name": "#%%\n"
    }
   }
  },
  {
   "cell_type": "code",
   "execution_count": null,
   "outputs": [],
   "source": [
    "keyword_amazon_search_volume_android = filter_amazon_keywords(keyword_order_by_volume_eng_android, \"KEYWORD\")\n",
    "keyword_amazon_search_volume_ios = filter_amazon_keywords(keyword_order_by_volume_eng_ios, \"KEYWORD\")\n",
    "keyword_amazon_sov_android = filter_amazon_keywords(keyword_order_by_sov_eng_android, \"KEYWORD\")\n",
    "keyword_amazon_sov_ios = filter_amazon_keywords(keyword_order_by_sov_eng_ios, \"KEYWORD\")"
   ],
   "metadata": {
    "collapsed": false,
    "pycharm": {
     "name": "#%%\n"
    }
   }
  },
  {
   "cell_type": "code",
   "execution_count": null,
   "outputs": [],
   "source": [
    "# for SEARCH VOLUME, define a function to filter out different categories of COMPLETELY SAME Amazon-related keywords, aggregate the SUM search volume of all the same keywords in one category in the periods, descending ordered by aggregate search volume\n",
    "def get_sum_table(sum_input_table, sum_group_column, sum_sort_column):\n",
    "     sum_total_val= sum_input_table[sum_sort_column].sum()\n",
    "     sum_percentage = ((sum_input_table[sum_sort_column] / sum_total_val)*100).round(2)\n",
    "     sum_input_table[\"%\"] = sum_percentage\n",
    "\n",
    "     sum_table = sum_input_table.groupby([sum_group_column], as_index=False).agg({\n",
    "         sum_sort_column : 'sum',\n",
    "         'KEYWORD_KEY' : 'first',\n",
    "         'DATE' : 'first',\n",
    "         'MARKET_CODE' : 'first',\n",
    "         'DEVICE_CODE' : 'first'}\n",
    "     )\n",
    "\n",
    "     return sum_table.sort_values(by = [sum_sort_column], ascending=False).iloc[0:9999].reset_index().drop(columns=\"index\")"
   ],
   "metadata": {
    "collapsed": false,
    "pycharm": {
     "name": "#%%\n"
    }
   }
  },
  {
   "cell_type": "code",
   "execution_count": null,
   "outputs": [],
   "source": [
    "keyword_amazon_search_volume_android_grouped = get_sum_table(keyword_amazon_search_volume_android,\"KEYWORD\", \"EST_KEYWORD_SEARCH_VOLUME\").drop(columns=[\"KEYWORD_KEY\",\"MARKET_CODE\",\"DEVICE_CODE\",\"DATE\"])\n",
    "keyword_amazon_search_volume_ios_grouped = get_sum_table(keyword_amazon_search_volume_ios,\"KEYWORD\", \"EST_KEYWORD_SEARCH_VOLUME\").drop(columns=[\"KEYWORD_KEY\",\"MARKET_CODE\",\"DEVICE_CODE\",\"DATE\"])"
   ],
   "metadata": {
    "collapsed": false,
    "pycharm": {
     "name": "#%%\n"
    }
   }
  },
  {
   "cell_type": "code",
   "execution_count": null,
   "outputs": [],
   "source": [
    "# for SOV, since it is meaningless to calculate the sum of SOV values, define a function to filter out different categories of COMPLETELY SAME Amazon-related keywords, aggregate the MEAN search volume of all the same keywords in one category in the periods, descending ordered by aggregate search volume\n",
    "def get_mean_table(mean_input_table, mean_group_column, sum_sort_column):\n",
    "\n",
    "     mean_table = mean_input_table.groupby([mean_group_column], as_index=False).agg({\n",
    "         sum_sort_column: 'mean',\n",
    "         'KEYWORD_KEY' : 'first',\n",
    "         'DATE': 'first',\n",
    "         'MARKET_CODE' : 'first',\n",
    "         'DEVICE_CODE' : 'first'}\n",
    "     )\n",
    "\n",
    "     return mean_table.sort_values(by = [sum_sort_column], ascending=False).iloc[0:9999].reset_index().drop(columns=\"index\")"
   ],
   "metadata": {
    "collapsed": false,
    "pycharm": {
     "name": "#%%\n"
    }
   }
  },
  {
   "cell_type": "code",
   "execution_count": null,
   "outputs": [],
   "source": [
    "keyword_amazon_sov_android_grouped = get_mean_table(keyword_amazon_sov_android,\"KEYWORD\", \"EST_KEYWORD_SOV_APP_SHARE_OF_KEYWORD\").drop(columns=[\"KEYWORD_KEY\",\"MARKET_CODE\",\"DEVICE_CODE\",\"DATE\"])\n",
    "keyword_amazon_sov_ios_grouped = get_mean_table(keyword_amazon_sov_ios,\"KEYWORD\", \"EST_KEYWORD_SOV_APP_SHARE_OF_KEYWORD\").drop(columns=[\"KEYWORD_KEY\",\"MARKET_CODE\",\"DEVICE_CODE\",\"DATE\"])"
   ],
   "metadata": {
    "collapsed": false,
    "pycharm": {
     "name": "#%%\n"
    }
   }
  },
  {
   "cell_type": "code",
   "execution_count": null,
   "outputs": [],
   "source": [
    "# merged corresponding tables in each segment"
   ],
   "metadata": {
    "collapsed": false,
    "pycharm": {
     "name": "#%%\n"
    }
   }
  },
  {
   "cell_type": "code",
   "execution_count": null,
   "outputs": [],
   "source": [
    "merged_amazon_android = pd.merge(keyword_amazon_search_volume_android_grouped, keyword_amazon_sov_android_grouped, on=[\"KEYWORD\"], how='inner')\n",
    "merged_amazon_android.to_csv(\"merged_amazon_android.csv\")"
   ],
   "metadata": {
    "collapsed": false,
    "pycharm": {
     "name": "#%%\n"
    }
   }
  },
  {
   "cell_type": "code",
   "execution_count": null,
   "outputs": [],
   "source": [
    "merged_amazon_ios = pd.merge(keyword_amazon_search_volume_ios_grouped, keyword_amazon_sov_ios_grouped, on=[\"KEYWORD\"], how='inner')\n",
    "merged_amazon_ios.to_csv(\"merged_amazon_ios.csv\")"
   ],
   "metadata": {
    "collapsed": false,
    "pycharm": {
     "name": "#%%\n"
    }
   }
  },
  {
   "cell_type": "markdown",
   "source": [
    "### Get Dataframes in Setting Range"
   ],
   "metadata": {
    "collapsed": false,
    "pycharm": {
     "name": "#%% md\n"
    }
   }
  },
  {
   "cell_type": "code",
   "execution_count": null,
   "outputs": [],
   "source": [
    "def get_volume_data(dataframe, column_name, range1, range2):\n",
    "    volume_df = dataframe.loc[(dataframe[column_name] <= range2) & (dataframe[column_name] >= range1)]\n",
    "    return volume_df\n",
    "\n",
    "\n",
    "def get_sov_data(dataframe, column_name, range1, range2):\n",
    "    sov_df = dataframe.loc[(dataframe[column_name] <= range2) & (dataframe[column_name] >= range1)]\n",
    "    return sov_df\n",
    "\n",
    "\n",
    "def merge_data(dataframe1, dataframe2):\n",
    "    merged_data = pd.merge(dataframe1, dataframe2, on=[\"KEYWORD\"], how='inner')\n",
    "    return merged_data"
   ],
   "metadata": {
    "collapsed": false,
    "pycharm": {
     "name": "#%%\n"
    }
   }
  },
  {
   "cell_type": "code",
   "execution_count": null,
   "outputs": [],
   "source": [
    "keyword_order_by_volume_eng_android_grouped = get_sum_table(keyword_order_by_volume_eng_android, \"KEYWORD\", \"EST_KEYWORD_SEARCH_VOLUME\").drop(columns=[\"KEYWORD_KEY\",\"MARKET_CODE\",\"DEVICE_CODE\",\"DATE\"]).rename(columns={\"EST_KEYWORD_SEARCH_VOLUME\" : \"TOTAL_EST_KEYWORD_SEARCH_VOLUME\"})\n",
    "keyword_order_by_volume_eng_android_grouped"
   ],
   "metadata": {
    "collapsed": false,
    "pycharm": {
     "name": "#%%\n"
    }
   }
  },
  {
   "cell_type": "code",
   "execution_count": null,
   "outputs": [],
   "source": [
    "keyword_order_by_sov_eng_android_grouped = get_mean_table(keyword_order_by_sov_eng_android, \"KEYWORD\", \"EST_KEYWORD_SOV_APP_SHARE_OF_KEYWORD\").rename(columns={\"EST_KEYWORD_SOV_APP_SHARE_OF_KEYWORD\" : \"AVG_EST_KEYWORD_SOV_APP_SHARE_OF_KEYWORD\"}).drop(columns=[\"KEYWORD_KEY\",\"MARKET_CODE\",\"DEVICE_CODE\",\"DATE\"])\n",
    "keyword_order_by_sov_eng_android_grouped"
   ],
   "metadata": {
    "collapsed": false,
    "pycharm": {
     "name": "#%%\n"
    }
   }
  },
  {
   "cell_type": "code",
   "execution_count": null,
   "outputs": [],
   "source": [
    "keyword_order_by_volume_eng_ios_grouped = get_sum_table(keyword_order_by_volume_eng_ios, \"KEYWORD\", \"EST_KEYWORD_SEARCH_VOLUME\").drop(columns=[\"KEYWORD_KEY\",\"MARKET_CODE\",\"DEVICE_CODE\",\"DATE\"]).rename(columns={\"EST_KEYWORD_SEARCH_VOLUME\" : \"TOTAL_EST_KEYWORD_SEARCH_VOLUME\"})\n",
    "keyword_order_by_volume_eng_ios_grouped"
   ],
   "metadata": {
    "collapsed": false,
    "pycharm": {
     "name": "#%%\n"
    }
   }
  },
  {
   "cell_type": "code",
   "execution_count": null,
   "outputs": [],
   "source": [
    "keyword_order_by_sov_eng_ios_grouped = get_mean_table(keyword_order_by_sov_eng_ios, \"KEYWORD\", \"EST_KEYWORD_SOV_APP_SHARE_OF_KEYWORD\").rename(columns={\"EST_KEYWORD_SOV_APP_SHARE_OF_KEYWORD\" : \"AVG_EST_KEYWORD_SOV_APP_SHARE_OF_KEYWORD\"}).drop(columns=[\"KEYWORD_KEY\",\"MARKET_CODE\",\"DEVICE_CODE\",\"DATE\"])\n",
    "keyword_order_by_sov_eng_ios_grouped"
   ],
   "metadata": {
    "collapsed": false,
    "pycharm": {
     "name": "#%%\n"
    }
   }
  },
  {
   "cell_type": "markdown",
   "source": [
    "### Keywords with High Search Volume & High SOV"
   ],
   "metadata": {
    "collapsed": false,
    "pycharm": {
     "name": "#%% md\n"
    }
   }
  },
  {
   "cell_type": "code",
   "execution_count": null,
   "outputs": [],
   "source": [
    "high_volume_android = get_volume_data(keyword_order_by_volume_eng_android_grouped, \"TOTAL_EST_KEYWORD_SEARCH_VOLUME\", 315, 700)\n",
    "high_sov_android = get_sov_data(keyword_order_by_sov_eng_android_grouped, \"AVG_EST_KEYWORD_SOV_APP_SHARE_OF_KEYWORD\", 0.7, 1)\n",
    "high_volume_high_sov_android = merge_data(high_volume_android, high_sov_android)\n",
    "high_volume_high_sov_android.to_csv(\"high_volume_high_sov_android.csv\")"
   ],
   "metadata": {
    "collapsed": false,
    "pycharm": {
     "name": "#%%\n"
    }
   }
  },
  {
   "cell_type": "code",
   "execution_count": null,
   "outputs": [],
   "source": [
    "high_volume_ios = get_volume_data(keyword_order_by_volume_eng_ios_grouped, \"TOTAL_EST_KEYWORD_SEARCH_VOLUME\", 315, 700)\n",
    "high_sov_ios = get_sov_data(keyword_order_by_sov_eng_ios_grouped, \"AVG_EST_KEYWORD_SOV_APP_SHARE_OF_KEYWORD\", 0.9, 1)\n",
    "high_volume_high_sov_ios = merge_data(high_volume_ios, high_sov_ios)\n",
    "high_volume_high_sov_ios.to_csv(\"high_volume_high_sov_ios.csv\")"
   ],
   "metadata": {
    "collapsed": false,
    "pycharm": {
     "name": "#%%\n"
    }
   }
  },
  {
   "cell_type": "markdown",
   "source": [
    "### Keywords with High Search Volume & Low SOV"
   ],
   "metadata": {
    "collapsed": false,
    "pycharm": {
     "name": "#%% md\n"
    }
   }
  },
  {
   "cell_type": "code",
   "execution_count": null,
   "outputs": [],
   "source": [
    "low_sov_android = get_sov_data(keyword_order_by_sov_eng_android_grouped, \"AVG_EST_KEYWORD_SOV_APP_SHARE_OF_KEYWORD\", 0.2, 0.5)\n",
    "high_volume_low_sov_android = merge_data(high_volume_android, low_sov_android)\n",
    "high_volume_low_sov_android.to_csv(\"high_volume_low_sov_android.csv\")"
   ],
   "metadata": {
    "collapsed": false,
    "pycharm": {
     "name": "#%%\n"
    }
   }
  },
  {
   "cell_type": "code",
   "execution_count": null,
   "outputs": [],
   "source": [
    "low_sov_ios = get_sov_data(keyword_order_by_sov_eng_ios_grouped, \"AVG_EST_KEYWORD_SOV_APP_SHARE_OF_KEYWORD\", 0.2, 0.5)\n",
    "high_volume_low_sov_ios = merge_data(high_volume_ios, low_sov_ios)\n",
    "high_volume_low_sov_ios.to_csv(\"high_volume_low_sov_ios.csv\")"
   ],
   "metadata": {
    "collapsed": false,
    "pycharm": {
     "name": "#%%\n"
    }
   }
  },
  {
   "cell_type": "markdown",
   "source": [
    "### Keywords with Mid Search Volume & Mid SOV"
   ],
   "metadata": {
    "collapsed": false,
    "pycharm": {
     "name": "#%% md\n"
    }
   }
  },
  {
   "cell_type": "code",
   "execution_count": null,
   "outputs": [],
   "source": [
    "mid_volume_android = get_volume_data(keyword_order_by_volume_eng_android_grouped, \"TOTAL_EST_KEYWORD_SEARCH_VOLUME\", 154, 315)\n",
    "mid_sov_android = get_sov_data(keyword_order_by_sov_eng_android_grouped, \"AVG_EST_KEYWORD_SOV_APP_SHARE_OF_KEYWORD\", 0.5, 0.7)\n",
    "mid_volume_mid_sov_android = merge_data(mid_volume_android, mid_sov_android)\n",
    "mid_volume_mid_sov_android.to_csv(\"mid_volume_mid_sov_android.csv\")"
   ],
   "metadata": {
    "collapsed": false,
    "pycharm": {
     "name": "#%%\n"
    }
   }
  },
  {
   "cell_type": "code",
   "execution_count": null,
   "outputs": [],
   "source": [
    "mid_volume_ios = get_volume_data(keyword_order_by_volume_eng_ios_grouped, \"TOTAL_EST_KEYWORD_SEARCH_VOLUME\", 154, 315)\n",
    "mid_sov_ios = get_sov_data(keyword_order_by_sov_eng_ios_grouped, \"AVG_EST_KEYWORD_SOV_APP_SHARE_OF_KEYWORD\", 0.5, 0.9)\n",
    "mid_volume_mid_sov_ios = merge_data(mid_volume_ios, mid_sov_ios)\n",
    "mid_volume_mid_sov_ios.to_csv(\"mid_volume_mid_sov_ios.csv\")"
   ],
   "metadata": {
    "collapsed": false,
    "pycharm": {
     "name": "#%%\n"
    }
   }
  },
  {
   "cell_type": "markdown",
   "source": [
    "### Fuzzy Match Function"
   ],
   "metadata": {
    "collapsed": false,
    "pycharm": {
     "name": "#%% md\n"
    }
   }
  },
  {
   "cell_type": "code",
   "execution_count": null,
   "outputs": [],
   "source": [
    "def readFiles(filename):\n",
    "    file1 = open(filename, 'r')\n",
    "    Lines = file1.readlines()\n",
    "\n",
    "    categories = []\n",
    "    info = []\n",
    "    items = []\n",
    "    newline = True\n",
    "\n",
    "    # Strips the newline character\n",
    "    for line in Lines:\n",
    "        line = line.strip(\"\\n\")\n",
    "        if line == '_':\n",
    "            info.append(items)\n",
    "            items = []\n",
    "            newline = True\n",
    "        elif newline:\n",
    "            newline = False\n",
    "            categories.append(line)\n",
    "        else:\n",
    "            items.append(line)\n",
    "    return categories, info\n",
    "\n",
    "def categorize_word(filename, data, threshold, column_name1):\n",
    "    from thefuzz import fuzz\n",
    "    result_column1 = pd.DataFrame(data=None, columns=[\"CATEGORY\"])\n",
    "    result_column2 = pd.DataFrame(data=None, columns=[\"MATCH\"])\n",
    "    result_column3 = pd.DataFrame(data=None, columns=[\"SIMILARITY\"])\n",
    "\n",
    "\n",
    "    for index, row in enumerate(data.itertuples()):\n",
    "        string = getattr(row, column_name1)\n",
    "\n",
    "        best_category = []\n",
    "        best_comp_string = []\n",
    "        best_ratio = 0\n",
    "\n",
    "        categories, info = readFiles(filename)\n",
    "        for cate_index, category in enumerate(categories):\n",
    "            for comp_string in info[cate_index]:\n",
    "                ratio = fuzz.ratio(string, comp_string)\n",
    "                if ratio > best_ratio and ratio >= threshold:\n",
    "                    best_category = [category]\n",
    "                    best_comp_string = [comp_string]\n",
    "                    best_ratio = ratio\n",
    "                elif ratio == best_ratio and ratio >= threshold:\n",
    "                    best_category.append(category)\n",
    "                    best_comp_string.append(comp_string)\n",
    "\n",
    "        if best_ratio < threshold:\n",
    "            best_category = [\"Others\"]\n",
    "            best_comp_string = [\"NULL\"]\n",
    "        result_column1.loc[index] = str(best_category[0])\n",
    "        result_column2.loc[index] = str(best_comp_string[0])\n",
    "        result_column3.loc[index] = str(best_ratio)\n",
    "\n",
    "    return result_column1, result_column2, result_column3\n",
    "\n",
    "def insert_category_column(filename, data, threshold, column_name1, column_name2):\n",
    "    res1, res2, res3 = categorize_word(filename, data, threshold, column_name1)\n",
    "\n",
    "    data.insert(len(data.columns), \"CATEGORY\", res1[\"CATEGORY\"])\n",
    "    data.insert(len(data.columns), \"MATCH\", res2[\"MATCH\"])\n",
    "    data.insert(len(data.columns), \"SIMILARITY\", res3[\"SIMILARITY\"])\n",
    "    data = data.sort_values(by = [\"CATEGORY\", column_name2], ascending =[True, False]).reset_index().drop(columns=\"index\")\n",
    "    return data\n",
    "\n",
    "def category_volume_percentage(filename, data, threshold, column_name1, column_name2):\n",
    "    dataframe = insert_category_column(filename, data, threshold, column_name1, column_name2)\n",
    "\n",
    "    dataframe_final = dataframe.groupby(by=['CATEGORY'])[column_name2].sum().reset_index()\n",
    "    dataframe_final['%'] = dataframe_final[column_name2]/dataframe_final[column_name2].sum()\n",
    "    return dataframe_final"
   ],
   "metadata": {
    "collapsed": false,
    "pycharm": {
     "name": "#%%\n"
    }
   }
  },
  {
   "cell_type": "code",
   "execution_count": null,
   "outputs": [],
   "source": [
    "data1 = pd.read_csv(\"high_volume_high_sov_android.csv\").iloc[:, 1:]\n",
    "res1 = insert_category_column(\"categories.txt\", data1, 80, \"KEYWORD\", \"TOTAL_EST_KEYWORD_SEARCH_VOLUME\")\n",
    "res1.to_csv(\"cate_high_volume_high_sov_android.csv\")\n",
    "res1"
   ],
   "metadata": {
    "collapsed": false,
    "pycharm": {
     "name": "#%%\n"
    }
   }
  },
  {
   "cell_type": "code",
   "execution_count": null,
   "outputs": [],
   "source": [
    "data1_summary = pd.read_csv(\"high_volume_high_sov_android.csv\").iloc[:, 1:]\n",
    "res1_summary = category_volume_percentage(\"categories.txt\", data1_summary, 80, \"KEYWORD\", \"TOTAL_EST_KEYWORD_SEARCH_VOLUME\")\n",
    "res1_summary"
   ],
   "metadata": {
    "collapsed": false,
    "pycharm": {
     "name": "#%%\n"
    }
   }
  },
  {
   "cell_type": "code",
   "execution_count": null,
   "outputs": [],
   "source": [
    "data2 = pd.read_csv(\"high_volume_high_sov_ios.csv\").iloc[:, 1:]\n",
    "res2 = insert_category_column(\"categories.txt\", data2, 80, \"KEYWORD\", \"TOTAL_EST_KEYWORD_SEARCH_VOLUME\")\n",
    "res2.to_csv(\"cate_high_volume_high_sov_ios.csv\")\n",
    "res2"
   ],
   "metadata": {
    "collapsed": false,
    "pycharm": {
     "name": "#%%\n"
    }
   }
  },
  {
   "cell_type": "code",
   "execution_count": null,
   "outputs": [],
   "source": [
    "data2_summary = pd.read_csv(\"high_volume_high_sov_ios.csv\").iloc[:, 1:]\n",
    "res2_summary = category_volume_percentage(\"categories.txt\", data2_summary, 80, \"KEYWORD\", \"TOTAL_EST_KEYWORD_SEARCH_VOLUME\")\n",
    "res2_summary"
   ],
   "metadata": {
    "collapsed": false,
    "pycharm": {
     "name": "#%%\n"
    }
   }
  },
  {
   "cell_type": "code",
   "execution_count": null,
   "outputs": [],
   "source": [
    "data3 = pd.read_csv(\"high_volume_low_sov_android.csv\").iloc[:, 1:]\n",
    "res3 = insert_category_column(\"categories.txt\", data3, 80, \"KEYWORD\", \"TOTAL_EST_KEYWORD_SEARCH_VOLUME\")\n",
    "res3.to_csv(\"cate_high_volume_low_sov_android.csv\")\n",
    "res3"
   ],
   "metadata": {
    "collapsed": false,
    "pycharm": {
     "name": "#%%\n"
    }
   }
  },
  {
   "cell_type": "code",
   "execution_count": null,
   "outputs": [],
   "source": [
    "data3_summary = pd.read_csv(\"high_volume_low_sov_android.csv\").iloc[:, 1:]\n",
    "res3_summary = category_volume_percentage(\"categories.txt\", data3_summary, 80, \"KEYWORD\", \"TOTAL_EST_KEYWORD_SEARCH_VOLUME\")\n",
    "res3_summary"
   ],
   "metadata": {
    "collapsed": false,
    "pycharm": {
     "name": "#%%\n"
    }
   }
  },
  {
   "cell_type": "code",
   "execution_count": null,
   "outputs": [],
   "source": [
    "data4 = pd.read_csv(\"high_volume_low_sov_ios.csv\").iloc[:, 1:]\n",
    "res4 = insert_category_column(\"categories.txt\", data4, 80, \"KEYWORD\", \"TOTAL_EST_KEYWORD_SEARCH_VOLUME\")\n",
    "res4.to_csv(\"cate_high_volume_low_sov_ios.csv\")\n",
    "res4"
   ],
   "metadata": {
    "collapsed": false,
    "pycharm": {
     "name": "#%%\n"
    }
   }
  },
  {
   "cell_type": "code",
   "execution_count": null,
   "outputs": [],
   "source": [
    "data4_summary = pd.read_csv(\"high_volume_low_sov_ios.csv\").iloc[:, 1:]\n",
    "res4_summary = category_volume_percentage(\"categories.txt\", data4_summary, 80, \"KEYWORD\", \"TOTAL_EST_KEYWORD_SEARCH_VOLUME\")\n",
    "res4_summary"
   ],
   "metadata": {
    "collapsed": false,
    "pycharm": {
     "name": "#%%\n"
    }
   }
  },
  {
   "cell_type": "code",
   "execution_count": null,
   "outputs": [],
   "source": [
    "data5 = pd.read_csv(\"mid_volume_mid_sov_android.csv\").iloc[:, 1:]\n",
    "res5 = insert_category_column(\"categories.txt\", data5, 80, \"KEYWORD\", \"TOTAL_EST_KEYWORD_SEARCH_VOLUME\")\n",
    "res5.to_csv(\"cate_mid_volume_mid_sov_android.csv\")\n",
    "res5"
   ],
   "metadata": {
    "collapsed": false,
    "pycharm": {
     "name": "#%%\n"
    }
   }
  },
  {
   "cell_type": "code",
   "execution_count": null,
   "outputs": [],
   "source": [
    "data5_summary = pd.read_csv(\"mid_volume_mid_sov_android.csv\").iloc[:, 1:]\n",
    "res5_summary = category_volume_percentage(\"categories.txt\", data5_summary, 80, \"KEYWORD\", \"TOTAL_EST_KEYWORD_SEARCH_VOLUME\")\n",
    "res5_summary"
   ],
   "metadata": {
    "collapsed": false,
    "pycharm": {
     "name": "#%%\n"
    }
   }
  },
  {
   "cell_type": "code",
   "execution_count": null,
   "outputs": [],
   "source": [
    "data6 = pd.read_csv(\"mid_volume_mid_sov_ios.csv\").iloc[:, 1:]\n",
    "res6 = insert_category_column(\"categories.txt\", data6, 80, \"KEYWORD\", \"TOTAL_EST_KEYWORD_SEARCH_VOLUME\")\n",
    "res6.to_csv(\"cate_mid_volume_mid_sov_ios.csv\")\n",
    "res6"
   ],
   "metadata": {
    "collapsed": false,
    "pycharm": {
     "name": "#%%\n"
    }
   }
  },
  {
   "cell_type": "code",
   "execution_count": null,
   "outputs": [],
   "source": [
    "data6_summary = pd.read_csv(\"mid_volume_mid_sov_ios.csv\").iloc[:, 1:]\n",
    "res6_summary = category_volume_percentage(\"categories.txt\", data6_summary, 80, \"KEYWORD\", \"TOTAL_EST_KEYWORD_SEARCH_VOLUME\")\n",
    "res6_summary"
   ],
   "metadata": {
    "collapsed": false,
    "pycharm": {
     "name": "#%%\n"
    }
   }
  },
  {
   "cell_type": "code",
   "execution_count": null,
   "outputs": [],
   "source": [
    "amazon_android1 = pd.read_csv(\"keyword_volume_top_android_final.csv\").iloc[:, 1:]\n",
    "cate_amazon_android1 = insert_category_column(\"categories.txt\", amazon_android1, 80, \"KEYWORD\", \"EST_KEYWORD_SEARCH_VOLUME\")\n",
    "cate_amazon_android1.to_csv(\"cate_keyword_volume_top_android_final.csv\")\n",
    "cate_amazon_android1"
   ],
   "metadata": {
    "collapsed": false,
    "pycharm": {
     "name": "#%%\n"
    }
   }
  },
  {
   "cell_type": "code",
   "execution_count": null,
   "outputs": [],
   "source": [
    "amazon_android2 = pd.read_csv(\"keyword_volume_top_android_final.csv\").iloc[:, 1:]\n",
    "cate_amazon_android2 = category_volume_percentage(\"categories.txt\", amazon_android2, 80, \"KEYWORD\", \"EST_KEYWORD_SEARCH_VOLUME\")\n",
    "cate_amazon_android2"
   ],
   "metadata": {
    "collapsed": false,
    "pycharm": {
     "name": "#%%\n"
    }
   }
  },
  {
   "cell_type": "code",
   "execution_count": null,
   "outputs": [],
   "source": [
    "amazon_ios1 = pd.read_csv(\"keyword_volume_top_ios_final.csv\").iloc[:, 1:]\n",
    "cate_amazon_ios1 = insert_category_column(\"categories.txt\", amazon_ios1, 80, \"KEYWORD\", \"EST_KEYWORD_SEARCH_VOLUME\")\n",
    "cate_amazon_ios1.to_csv(\"cate_keyword_volume_top_ios_final.csv\")\n",
    "cate_amazon_ios1"
   ],
   "metadata": {
    "collapsed": false,
    "pycharm": {
     "name": "#%%\n"
    }
   }
  },
  {
   "cell_type": "code",
   "execution_count": null,
   "outputs": [],
   "source": [
    "amazon_ios2 = pd.read_csv(\"keyword_volume_top_ios_final.csv\").iloc[:, 1:]\n",
    "cate_amazon_ios2 = category_volume_percentage(\"categories.txt\", amazon_ios2, 80, \"KEYWORD\", \"EST_KEYWORD_SEARCH_VOLUME\")\n",
    "cate_amazon_ios2"
   ],
   "metadata": {
    "collapsed": false,
    "pycharm": {
     "name": "#%%\n"
    }
   }
  },
  {
   "cell_type": "code",
   "execution_count": null,
   "outputs": [],
   "source": [],
   "metadata": {
    "collapsed": false,
    "pycharm": {
     "name": "#%%\n"
    }
   }
  }
 ],
 "metadata": {
  "kernelspec": {
   "display_name": "Python 3",
   "language": "python",
   "name": "python3"
  },
  "language_info": {
   "codemirror_mode": {
    "name": "ipython",
    "version": 2
   },
   "file_extension": ".py",
   "mimetype": "text/x-python",
   "name": "python",
   "nbconvert_exporter": "python",
   "pygments_lexer": "ipython2",
   "version": "2.7.6"
  }
 },
 "nbformat": 4,
 "nbformat_minor": 0
}
